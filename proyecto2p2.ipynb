{
 "cells": [
  {
   "cell_type": "code",
   "execution_count": 1,
   "id": "bfe9244f",
   "metadata": {},
   "outputs": [],
   "source": [
    "import numpy as np\n",
    "\n",
    "def sigmoid(z):\n",
    "    return 1 / (1 + np.exp(-z))\n",
    "\n",
    "def compute_loss(y_true, y_pred):\n",
    "    m = y_true.shape[0]\n",
    "    epsilon = 1e-15\n",
    "    y_pred = np.clip(y_pred, epsilon, 1 - epsilon)\n",
    "    return -np.mean(y_true * np.log(y_pred) + (1 - y_true) * np.log(1 - y_pred))\n",
    "\n",
    "def train_logistic_regression(X, y, lr=0.01, epochs=1000):\n",
    "    m, n = X.shape\n",
    "    theta = np.zeros((n, 1))\n",
    "    bias = 0\n",
    "    loss_history = []\n",
    "\n",
    "    for epoch in range(epochs):\n",
    "        z = np.dot(X, theta) + bias\n",
    "        y_hat = sigmoid(z)\n",
    "\n",
    "        loss = compute_loss(y, y_hat)\n",
    "        loss_history.append(loss)\n",
    "\n",
    "        dz = y_hat - y\n",
    "        dw = np.dot(X.T, dz) / m\n",
    "        db = np.sum(dz) / m\n",
    "\n",
    "        theta -= lr * dw\n",
    "        bias -= lr * db\n",
    "\n",
    "    return theta, bias, loss_history\n"
   ]
  },
  {
   "cell_type": "code",
   "execution_count": 3,
   "id": "e7bea8da",
   "metadata": {},
   "outputs": [],
   "source": [
    "def predict(X, theta, bias, threshold=0.5):\n",
    "    probs = sigmoid(np.dot(X, theta) + bias)\n",
    "    return (probs >= threshold).astype(int)\n",
    "\n",
    "def compute_f1_score(y_true, y_pred):\n",
    "    tp = np.sum((y_true == 1) & (y_pred == 1))\n",
    "    fp = np.sum((y_true == 0) & (y_pred == 1))\n",
    "    fn = np.sum((y_true == 1) & (y_pred == 0))\n",
    "\n",
    "    if tp + fp == 0 or tp + fn == 0:\n",
    "        return 0.0  # evitar división por cero\n",
    "\n",
    "    precision = tp / (tp + fp)\n",
    "    recall = tp / (tp + fn)\n",
    "    if precision + recall == 0:\n",
    "        return 0.0\n",
    "\n",
    "    return 2 * (precision * recall) / (precision + recall)\n",
    "\n"
   ]
  },
  {
   "cell_type": "code",
   "execution_count": null,
   "id": "1776a2ab",
   "metadata": {},
   "outputs": [
    {
     "ename": "NameError",
     "evalue": "name 'workspaces' is not defined",
     "output_type": "error",
     "traceback": [
      "\u001b[31m---------------------------------------------------------------------------\u001b[39m",
      "\u001b[31mNameError\u001b[39m                                 Traceback (most recent call last)",
      "\u001b[36mCell\u001b[39m\u001b[36m \u001b[39m\u001b[32mIn[6]\u001b[39m\u001b[32m, line 5\u001b[39m\n\u001b[32m      2\u001b[39m \u001b[38;5;28;01mimport\u001b[39;00m\u001b[38;5;250m \u001b[39m\u001b[34;01mnumpy\u001b[39;00m\u001b[38;5;250m \u001b[39m\u001b[38;5;28;01mas\u001b[39;00m\u001b[38;5;250m \u001b[39m\u001b[34;01mnp\u001b[39;00m\n\u001b[32m      4\u001b[39m \u001b[38;5;66;03m# Cargar tu dataframe (asegúrate de que esté en tu entorno)\u001b[39;00m\n\u001b[32m----> \u001b[39m\u001b[32m5\u001b[39m df = \u001b[43mworkspaces\u001b[49m/Proyecto2/train_df.csv.copy()\n\u001b[32m      6\u001b[39m df = df.drop(columns=[\u001b[33m\"\u001b[39m\u001b[33mpaciente_id\u001b[39m\u001b[33m\"\u001b[39m])         \u001b[38;5;66;03m# 1. Eliminar ID\u001b[39;00m\n\u001b[32m      7\u001b[39m df[\u001b[33m\"\u001b[39m\u001b[33mgenero\u001b[39m\u001b[33m\"\u001b[39m] = df[\u001b[33m\"\u001b[39m\u001b[33mgenero\u001b[39m\u001b[33m\"\u001b[39m].map({\u001b[33m\"\u001b[39m\u001b[33mM\u001b[39m\u001b[33m\"\u001b[39m: \u001b[32m1\u001b[39m, \u001b[33m\"\u001b[39m\u001b[33mF\u001b[39m\u001b[33m\"\u001b[39m: \u001b[32m0\u001b[39m})  \u001b[38;5;66;03m# 2. Codificar genero\u001b[39;00m\n",
      "\u001b[31mNameError\u001b[39m: name 'workspaces' is not defined"
     ]
    }
   ],
   "source": [
    "import pandas as pd\n",
    "import numpy as np\n",
    "\n",
    "# Cargar tu dataframe (asegúrate de que esté en tu entorno)\n",
    "df = train_df.csv.copy()\n",
    "df = df.drop(columns=[\"paciente_id\"])         # 1. Eliminar ID\n",
    "df[\"genero\"] = df[\"genero\"].map({\"M\": 1, \"F\": 0})  # 2. Codificar genero\n",
    "\n",
    "X = df.drop(columns=[\"target\"])\n",
    "y = df[\"target\"].values.reshape(-1, 1)\n",
    "\n",
    "# 3. Estandarizar variables numéricas (menos 'genero')\n",
    "numeric_cols = X.columns.tolist()\n",
    "numeric_cols.remove(\"genero\")\n",
    "\n",
    "means = X[numeric_cols].mean()\n",
    "stds = X[numeric_cols].std()\n",
    "X[numeric_cols] = (X[numeric_cols] - means) / stds\n",
    "\n",
    "X_final = X.values  # X_final vuelve a existir\n"
   ]
  }
 ],
 "metadata": {
  "kernelspec": {
   "display_name": "Python 3",
   "language": "python",
   "name": "python3"
  },
  "language_info": {
   "codemirror_mode": {
    "name": "ipython",
    "version": 3
   },
   "file_extension": ".py",
   "mimetype": "text/x-python",
   "name": "python",
   "nbconvert_exporter": "python",
   "pygments_lexer": "ipython3",
   "version": "3.12.1"
  }
 },
 "nbformat": 4,
 "nbformat_minor": 5
}
