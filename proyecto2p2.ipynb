{
 "cells": [
  {
   "cell_type": "code",
   "execution_count": 1,
   "id": "bfe9244f",
   "metadata": {},
   "outputs": [],
   "source": [
    "import numpy as np\n",
    "\n",
    "def sigmoid(z):\n",
    "    return 1 / (1 + np.exp(-z))\n",
    "\n",
    "def compute_loss(y_true, y_pred):\n",
    "    m = y_true.shape[0]\n",
    "    epsilon = 1e-15\n",
    "    y_pred = np.clip(y_pred, epsilon, 1 - epsilon)\n",
    "    return -np.mean(y_true * np.log(y_pred) + (1 - y_true) * np.log(1 - y_pred))\n",
    "\n",
    "def train_logistic_regression(X, y, lr=0.01, epochs=1000):\n",
    "    m, n = X.shape\n",
    "    theta = np.zeros((n, 1))\n",
    "    bias = 0\n",
    "    loss_history = []\n",
    "\n",
    "    for epoch in range(epochs):\n",
    "        z = np.dot(X, theta) + bias\n",
    "        y_hat = sigmoid(z)\n",
    "\n",
    "        loss = compute_loss(y, y_hat)\n",
    "        loss_history.append(loss)\n",
    "\n",
    "        dz = y_hat - y\n",
    "        dw = np.dot(X.T, dz) / m\n",
    "        db = np.sum(dz) / m\n",
    "\n",
    "        theta -= lr * dw\n",
    "        bias -= lr * db\n",
    "\n",
    "    return theta, bias, loss_history\n"
   ]
  },
  {
   "cell_type": "code",
   "execution_count": 2,
   "id": "e7bea8da",
   "metadata": {},
   "outputs": [],
   "source": [
    "def predict(X, theta, bias, threshold=0.5):\n",
    "    probs = sigmoid(np.dot(X, theta) + bias)\n",
    "    return (probs >= threshold).astype(int)\n",
    "\n",
    "def compute_f1_score(y_true, y_pred):\n",
    "    tp = np.sum((y_true == 1) & (y_pred == 1))\n",
    "    fp = np.sum((y_true == 0) & (y_pred == 1))\n",
    "    fn = np.sum((y_true == 1) & (y_pred == 0))\n",
    "\n",
    "    if tp + fp == 0 or tp + fn == 0:\n",
    "        return 0.0  # evitar división por cero\n",
    "\n",
    "    precision = tp / (tp + fp)\n",
    "    recall = tp / (tp + fn)\n",
    "    if precision + recall == 0:\n",
    "        return 0.0\n",
    "\n",
    "    return 2 * (precision * recall) / (precision + recall)\n",
    "\n"
   ]
  },
  {
   "cell_type": "code",
   "execution_count": 5,
   "id": "1776a2ab",
   "metadata": {},
   "outputs": [],
   "source": [
    "import pandas as pd\n",
    "import numpy as np\n",
    "\n",
    "# Cargar tu dataframe (asegúrate de que esté en tu entorno)\n",
    "train_df = pd.read_csv(\"train_df.csv\")  # Reemplaza con la ruta a tu archivo CSV\n",
    "df = train_df.copy()\n",
    "df = df.drop(columns=[\"paciente_id\"])         # 1. Eliminar ID\n",
    "df[\"genero\"] = df[\"genero\"].map({\"M\": 1, \"F\": 0})  # 2. Codificar genero\n",
    "\n",
    "X = df.drop(columns=[\"target\"])\n",
    "y = df[\"target\"].values.reshape(-1, 1)\n",
    "\n",
    "# 3. Estandarizar variables numéricas (menos 'genero')\n",
    "numeric_cols = X.columns.tolist()\n",
    "numeric_cols.remove(\"genero\")\n",
    "\n",
    "means = X[numeric_cols].mean()\n",
    "stds = X[numeric_cols].std()\n",
    "X[numeric_cols] = (X[numeric_cols] - means) / stds\n",
    "\n",
    "X_final = X.values  # X_final vuelve a existir\n"
   ]
  },
  {
   "cell_type": "code",
   "execution_count": 6,
   "id": "dadcae26",
   "metadata": {},
   "outputs": [],
   "source": [
    "def train_val_split(X, y, val_ratio=0.2, seed=42):\n",
    "    np.random.seed(seed)\n",
    "    m = X.shape[0]\n",
    "    indices = np.random.permutation(m)\n",
    "    val_size = int(m * val_ratio)\n",
    "    \n",
    "    val_idx = indices[:val_size]\n",
    "    train_idx = indices[val_size:]\n",
    "    \n",
    "    X_train, y_train = X[train_idx], y[train_idx]\n",
    "    X_val, y_val = X[val_idx], y[val_idx]\n",
    "    \n",
    "    return X_train, y_train, X_val, y_val\n"
   ]
  },
  {
   "cell_type": "code",
   "execution_count": 7,
   "id": "ce4cd076",
   "metadata": {},
   "outputs": [],
   "source": [
    "X_train, y_train, X_val, y_val = train_val_split(X_final, y)\n"
   ]
  },
  {
   "cell_type": "code",
   "execution_count": 8,
   "id": "9ceeb4cd",
   "metadata": {},
   "outputs": [],
   "source": [
    "theta, bias, losses = train_logistic_regression(X_train, y_train, lr=0.1, epochs=1000)\n"
   ]
  },
  {
   "cell_type": "code",
   "execution_count": 9,
   "id": "57ff7036",
   "metadata": {},
   "outputs": [
    {
     "name": "stdout",
     "output_type": "stream",
     "text": [
      "F1-Score en Validación: 0.4576271186440678\n"
     ]
    }
   ],
   "source": [
    "y_val_pred = predict(X_val, theta, bias)\n",
    "f1_val = compute_f1_score(y_val.ravel(), y_val_pred.ravel())\n",
    "\n",
    "print(\"F1-Score en Validación:\", f1_val)\n"
   ]
  },
  {
   "cell_type": "code",
   "execution_count": 10,
   "id": "20d0dd52",
   "metadata": {},
   "outputs": [
    {
     "name": "stdout",
     "output_type": "stream",
     "text": [
      "Probando combinaciones...\n",
      "\n",
      "lr = 0.01, epochs = 500 => F1-score: 0.4636\n",
      "lr = 0.01, epochs = 1000 => F1-score: 0.4584\n",
      "lr = 0.01, epochs = 2000 => F1-score: 0.4571\n",
      "lr = 0.05, epochs = 500 => F1-score: 0.4595\n",
      "lr = 0.05, epochs = 1000 => F1-score: 0.4552\n",
      "lr = 0.05, epochs = 2000 => F1-score: 0.4576\n",
      "lr = 0.1, epochs = 500 => F1-score: 0.4552\n",
      "lr = 0.1, epochs = 1000 => F1-score: 0.4576\n",
      "lr = 0.1, epochs = 2000 => F1-score: 0.4610\n",
      "lr = 0.2, epochs = 500 => F1-score: 0.4576\n",
      "lr = 0.2, epochs = 1000 => F1-score: 0.4610\n",
      "lr = 0.2, epochs = 2000 => F1-score: 0.4615\n",
      "\n",
      "✅ Mejor combinación:\n",
      "Learning Rate: 0.01\n",
      "Epochs: 500\n",
      "F1-Score: 0.4636\n"
     ]
    }
   ],
   "source": [
    "learning_rates = [0.01, 0.05, 0.1, 0.2]\n",
    "epoch_list = [500, 1000, 2000]\n",
    "\n",
    "best_f1 = 0\n",
    "best_params = (None, None)\n",
    "\n",
    "print(\"Probando combinaciones...\\n\")\n",
    "\n",
    "for lr in learning_rates:\n",
    "    for epochs in epoch_list:\n",
    "        theta, bias, _ = train_logistic_regression(X_train, y_train, lr=lr, epochs=epochs)\n",
    "        y_val_pred = predict(X_val, theta, bias)\n",
    "        f1 = compute_f1_score(y_val.ravel(), y_val_pred.ravel())\n",
    "        \n",
    "        print(f\"lr = {lr}, epochs = {epochs} => F1-score: {f1:.4f}\")\n",
    "        \n",
    "        if f1 > best_f1:\n",
    "            best_f1 = f1\n",
    "            best_params = (lr, epochs)\n",
    "\n",
    "print(\"\\n✅ Mejor combinación:\")\n",
    "print(f\"Learning Rate: {best_params[0]}\")\n",
    "print(f\"Epochs: {best_params[1]}\")\n",
    "print(f\"F1-Score: {best_f1:.4f}\")\n"
   ]
  }
 ],
 "metadata": {
  "kernelspec": {
   "display_name": "Python 3",
   "language": "python",
   "name": "python3"
  },
  "language_info": {
   "codemirror_mode": {
    "name": "ipython",
    "version": 3
   },
   "file_extension": ".py",
   "mimetype": "text/x-python",
   "name": "python",
   "nbconvert_exporter": "python",
   "pygments_lexer": "ipython3",
   "version": "3.11.9"
  }
 },
 "nbformat": 4,
 "nbformat_minor": 5
}
